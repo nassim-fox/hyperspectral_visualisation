{
  "nbformat": 4,
  "nbformat_minor": 0,
  "metadata": {
    "colab": {
      "name": "IP_visualisation.ipynb",
      "provenance": [],
      "collapsed_sections": []
    },
    "kernelspec": {
      "name": "python3",
      "display_name": "Python 3"
    },
    "accelerator": "GPU"
  },
  "cells": [
    {
      "cell_type": "code",
      "metadata": {
        "id": "jBETcdaV_1dR"
      },
      "source": [
        ""
      ],
      "execution_count": null,
      "outputs": []
    },
    {
      "cell_type": "markdown",
      "metadata": {
        "id": "ZwqLkCeavgvb"
      },
      "source": [
        "# Data"
      ]
    },
    {
      "cell_type": "markdown",
      "metadata": {
        "id": "Nm0jmWtIvkCK"
      },
      "source": [
        "## get data"
      ]
    },
    {
      "cell_type": "code",
      "metadata": {
        "id": "3JP3pcKzYjGs",
        "colab": {
          "base_uri": "https://localhost:8080/"
        },
        "outputId": "e095bf48-c2ce-4aa3-e17f-23a48cd310ba"
      },
      "source": [
        "!wget http://www.ehu.eus/ccwintco/uploads/c/c4/Indian_pines_gt.mat\n",
        "!wget http://www.ehu.eus/ccwintco/uploads/6/67/Indian_pines_corrected.mat\n",
        "\n",
        "import scipy.io\n",
        "\n",
        "\n",
        "import numpy as np\n",
        "import pandas as pd\n",
        "from matplotlib import pyplot as p\n",
        "\n",
        "input = scipy.io.loadmat('Indian_pines_corrected.mat')['indian_pines_corrected']\n",
        "labels = scipy.io.loadmat('Indian_pines_gt.mat')['indian_pines_gt']\n"
      ],
      "execution_count": 1,
      "outputs": [
        {
          "output_type": "stream",
          "text": [
            "--2021-01-12 23:49:18--  http://www.ehu.eus/ccwintco/uploads/c/c4/Indian_pines_gt.mat\n",
            "Resolving www.ehu.eus (www.ehu.eus)... 158.227.0.65, 2001:720:1410::65\n",
            "Connecting to www.ehu.eus (www.ehu.eus)|158.227.0.65|:80... connected.\n",
            "HTTP request sent, awaiting response... 200 OK\n",
            "Length: 1125 (1.1K)\n",
            "Saving to: ‘Indian_pines_gt.mat’\n",
            "\n",
            "Indian_pines_gt.mat 100%[===================>]   1.10K  --.-KB/s    in 0s      \n",
            "\n",
            "2021-01-12 23:49:19 (165 MB/s) - ‘Indian_pines_gt.mat’ saved [1125/1125]\n",
            "\n",
            "--2021-01-12 23:49:19--  http://www.ehu.eus/ccwintco/uploads/6/67/Indian_pines_corrected.mat\n",
            "Resolving www.ehu.eus (www.ehu.eus)... 158.227.0.65, 2001:720:1410::65\n",
            "Connecting to www.ehu.eus (www.ehu.eus)|158.227.0.65|:80... connected.\n",
            "HTTP request sent, awaiting response... 200 OK\n",
            "Length: 5953527 (5.7M)\n",
            "Saving to: ‘Indian_pines_corrected.mat’\n",
            "\n",
            "Indian_pines_correc 100%[===================>]   5.68M   559KB/s    in 12s     \n",
            "\n",
            "2021-01-12 23:49:31 (502 KB/s) - ‘Indian_pines_corrected.mat’ saved [5953527/5953527]\n",
            "\n"
          ],
          "name": "stdout"
        }
      ]
    },
    {
      "cell_type": "markdown",
      "metadata": {
        "id": "dv22QpT8BE-B"
      },
      "source": [
        "## process data\r\n"
      ]
    },
    {
      "cell_type": "code",
      "metadata": {
        "id": "yB_bRmcNyw7f"
      },
      "source": [
        "def padWithZeros(X, margin=2):\n",
        "    newX = np.zeros((X.shape[0] + 2 * margin, X.shape[1] + 2* margin, X.shape[2]))\n",
        "    x_offset = margin\n",
        "    y_offset = margin\n",
        "    newX[x_offset:X.shape[0] + x_offset, y_offset:X.shape[1] + y_offset, :] = X\n",
        "    return newX\n",
        "\n",
        "def createPatchs(X, y, patch_size=5, removeZeroLabels = True):\n",
        "    margin = int((patch_size - 1) / 2)\n",
        "    zeroPaddedX = padWithZeros(X, margin=margin)\n",
        "\n",
        "    patchesData = np.zeros((X.shape[0] * X.shape[1], patch_size, patch_size, X.shape[2]))\n",
        "    patchesLabels = np.zeros((X.shape[0] * X.shape[1]))\n",
        "    patchIndex = 0\n",
        "    for r in range(margin, zeroPaddedX.shape[0] - margin):\n",
        "        for c in range(margin, zeroPaddedX.shape[1] - margin):\n",
        "            patch = zeroPaddedX[r - margin:r + margin + 1 , c - margin:c + margin + 1]   \n",
        "            patchesData[patchIndex, :, :, :] = patch\n",
        "            patchesLabels[patchIndex] = y[r-margin, c-margin]\n",
        "            patchIndex = patchIndex + 1\n",
        "\n",
        "    if removeZeroLabels:\n",
        "        patchesData = patchesData[patchesLabels>0,:,:,:]\n",
        "        patchesLabels = patchesLabels[patchesLabels>0]\n",
        "        patchesLabels -= 1\n",
        "\n",
        "    return patchesData, patchesLabels\n",
        "    \n",
        "def featureNormalize(X,type):\n",
        "    #type==1 x = (x-mean)/std(x)\n",
        "    #type==2 x = (x-max(x))/(max(x)-min(x))\n",
        "    if type==1:\n",
        "        mu = np.mean(X,0)\n",
        "        X_norm = X-mu\n",
        "        sigma = np.std(X_norm,0)\n",
        "        X_norm = X_norm/sigma\n",
        "        return X_norm\n",
        "    elif type==2:\n",
        "        minX = np.min(X,0)\n",
        "        maxX = np.max(X,0)\n",
        "        X_norm = X-minX\n",
        "        X_norm = X_norm/(maxX-minX)\n",
        "        return X_norm    "
      ],
      "execution_count": 2,
      "outputs": []
    },
    {
      "cell_type": "code",
      "metadata": {
        "id": "cQs38wUFyxpK",
        "colab": {
          "base_uri": "https://localhost:8080/"
        },
        "outputId": "1e03a951-36b2-4bda-e684-f91a9bbb8d8e"
      },
      "source": [
        "## in case of PCA application  uncommente the lines\n",
        "from sklearn.decomposition import PCA\n",
        "\n",
        "k = 200\n",
        "x_t = input\n",
        "#x_t = np.reshape(input, (-1, input.shape[2]))\n",
        "#pca = PCA(n_components=k, whiten=True)\n",
        "#x_t = pca.fit_transform(x_t)\n",
        "#x_t = np.reshape(x_t, (input.shape[0],input.shape[1], k))\n",
        "\n",
        "print(x_t.shape)"
      ],
      "execution_count": 3,
      "outputs": [
        {
          "output_type": "stream",
          "text": [
            "(145, 145, 200)\n"
          ],
          "name": "stdout"
        }
      ]
    },
    {
      "cell_type": "code",
      "metadata": {
        "id": "kLq7o5N7y1xC"
      },
      "source": [
        "# patch size is the window size for patch based classification \n",
        "patch_size = 7\n",
        "patched_x, patched_y = createPatchs(x_t,labels,patch_size,True)"
      ],
      "execution_count": 4,
      "outputs": []
    },
    {
      "cell_type": "code",
      "metadata": {
        "id": "X0bieqTVkqST",
        "colab": {
          "base_uri": "https://localhost:8080/",
          "height": 102
        },
        "outputId": "f46bd29c-c845-4b1d-9f99-5560bfee9c55"
      },
      "source": [
        "# if you want to use larger patch sizes ( > 40 ) go with this algorithm instead of the above cell ( comment the above cell, for large patchs u can run out of RAM ) \n",
        "# this algorithme can cost you some data loss though\n",
        "\n",
        "import os \n",
        "'''\n",
        "if os.path.exists(\"patched_x.npy\") : \n",
        "  patched_x = np.load(\"patched_x.npy\")\n",
        "  patched_y = np.load(\"patched_y.npy\")\n",
        "else :  \n",
        "\n",
        "  patched_x = np.array([])\n",
        "  patched_y = np.array([])\n",
        "  cut_size = 2\n",
        "\n",
        "  for i in range(0,x_t.shape[0]-patch_size,patch_size) : \n",
        "    for j in range(0,x_t.shape[1],x_t.shape[1]//cut_size) : \n",
        "      if j + x_t.shape[1]//2 < x_t.shape[1] : \n",
        "        patched_x_t, patched_y_t = createPatchs(x_t[i:i+patch_size,j:j+x_t.shape[1]//cut_size,:],labels[i:i+patch_size,j:j+x_t.shape[1]//cut_size],patch_size,True)\n",
        "        print(i)\n",
        "        if i == 0 and j == 0 : \n",
        "          patched_x = patched_x_t\n",
        "          patched_y = patched_y_t\n",
        "        else : \n",
        "          patched_x = np.concatenate([patched_x,patched_x_t],axis=0)\n",
        "          patched_y = np.concatenate([patched_y,patched_y_t],axis=0)\n",
        "'''          "
      ],
      "execution_count": 5,
      "outputs": [
        {
          "output_type": "execute_result",
          "data": {
            "application/vnd.google.colaboratory.intrinsic+json": {
              "type": "string"
            },
            "text/plain": [
              "'\\nif os.path.exists(\"patched_x.npy\") : \\n  patched_x = np.load(\"patched_x.npy\")\\n  patched_y = np.load(\"patched_y.npy\")\\nelse :  \\n\\n  patched_x = np.array([])\\n  patched_y = np.array([])\\n  cut_size = 2\\n\\n  for i in range(0,x_t.shape[0]-patch_size,patch_size) : \\n    for j in range(0,x_t.shape[1],x_t.shape[1]//cut_size) : \\n      if j + x_t.shape[1]//2 < x_t.shape[1] : \\n        patched_x_t, patched_y_t = createPatchs(x_t[i:i+patch_size,j:j+x_t.shape[1]//cut_size,:],labels[i:i+patch_size,j:j+x_t.shape[1]//cut_size],patch_size,True)\\n        print(i)\\n        if i == 0 and j == 0 : \\n          patched_x = patched_x_t\\n          patched_y = patched_y_t\\n        else : \\n          patched_x = np.concatenate([patched_x,patched_x_t],axis=0)\\n          patched_y = np.concatenate([patched_y,patched_y_t],axis=0)\\n'"
            ]
          },
          "metadata": {
            "tags": []
          },
          "execution_count": 5
        }
      ]
    },
    {
      "cell_type": "markdown",
      "metadata": {
        "id": "T4G0Ho9qAytE"
      },
      "source": [
        "## Prepare for Deep learning "
      ]
    },
    {
      "cell_type": "code",
      "metadata": {
        "id": "oYF2MHkby4Lk"
      },
      "source": [
        "from sklearn.model_selection import train_test_split\n",
        "from sklearn.model_selection import ShuffleSplit, StratifiedShuffleSplit, StratifiedKFold\n",
        "\n",
        "x_train = []\n",
        "y_train = []\n",
        "x_test = []\n",
        "y_test = []\n",
        "x_val = []\n",
        "y_val = []\n",
        "\n",
        "# 90% test, 10% training\n",
        "rs = ShuffleSplit(n_splits=1, test_size=.90, random_state=42)\n",
        "\n",
        "# keep the indexs for further use ( to map the classification map )\n",
        "for train_index, test_index in rs.split(patched_x):\n",
        "        x_train.append(patched_x[train_index])\n",
        "        x_test.append(patched_x[test_index])\n",
        "        \n",
        "for train_index, test_index in rs.split(patched_y):\n",
        "        y_train.append(patched_y[train_index])\n",
        "        y_test.append(patched_y[test_index])\n",
        "\n"
      ],
      "execution_count": 6,
      "outputs": []
    },
    {
      "cell_type": "code",
      "metadata": {
        "id": "QcfROVlgy87P",
        "colab": {
          "base_uri": "https://localhost:8080/"
        },
        "outputId": "dc701224-e974-4c4b-fb9b-6f3a5d9dec53"
      },
      "source": [
        "x_train = np.asarray(x_train)[0]\n",
        "y_train = np.asarray(y_train)[0]\n",
        "x_test = np.asarray(x_test)[0]\n",
        "y_test = np.asarray(y_test)[0]\n",
        "print(x_train.shape)\n",
        "print(x_test.shape)\n",
        "print(y_train.shape)"
      ],
      "execution_count": 7,
      "outputs": [
        {
          "output_type": "stream",
          "text": [
            "(1024, 7, 7, 200)\n",
            "(9225, 7, 7, 200)\n",
            "(1024,)\n"
          ],
          "name": "stdout"
        }
      ]
    },
    {
      "cell_type": "code",
      "metadata": {
        "id": "LvL3Ej9ozAJF"
      },
      "source": [
        "# validation set\r\n",
        "_,x_val, _,y_val = train_test_split(x_test,y_test,test_size=0.20,random_state=70)"
      ],
      "execution_count": 8,
      "outputs": []
    },
    {
      "cell_type": "code",
      "metadata": {
        "id": "gkc5qF0HzC1j"
      },
      "source": [
        "from keras import utils\n",
        "from keras.datasets import mnist\n",
        "from keras.models import Model\n",
        "from keras.layers import *\n",
        "from keras import backend as K\n",
        "import tensorflow as tf\n",
        "\n",
        "\n",
        "\n",
        "x_train = np.reshape(x_train,(-1,x_train.shape[1],x_train.shape[2],x_train.shape[3]))\n",
        "x_test = np.reshape(x_test,(-1,x_test.shape[1],x_test.shape[2],x_test.shape[3]))\n",
        "x_val = np.reshape(x_val,(-1,x_val.shape[1],x_val.shape[2],x_val.shape[3]))\n",
        "y_train = tf.keras.utils.to_categorical(y_train)\n",
        "y_test = tf.keras.utils.to_categorical(y_test)\n",
        "y_val = tf.keras.utils.to_categorical(y_val)\n"
      ],
      "execution_count": 9,
      "outputs": []
    },
    {
      "cell_type": "markdown",
      "metadata": {
        "id": "7tyeSEDaAmdA"
      },
      "source": [
        "# map"
      ]
    },
    {
      "cell_type": "code",
      "metadata": {
        "colab": {
          "base_uri": "https://localhost:8080/",
          "height": 532
        },
        "id": "0__D8_NWAa6w",
        "outputId": "76b28178-446e-49a2-e367-b0e9fa9d382f"
      },
      "source": [
        "!pip install spectral\r\n",
        "import spectral \r\n",
        "\r\n",
        "ground_truth = spectral.imshow(classes = labels,figsize =(7,7))"
      ],
      "execution_count": 11,
      "outputs": [
        {
          "output_type": "stream",
          "text": [
            "Collecting spectral\n",
            "\u001b[?25l  Downloading https://files.pythonhosted.org/packages/ce/06/6a89035cde4eac3ed94e1888f850af653386e8ee827edc72ffc8e445bcb7/spectral-0.22.1-py3-none-any.whl (212kB)\n",
            "\r\u001b[K     |█▌                              | 10kB 18.2MB/s eta 0:00:01\r\u001b[K     |███                             | 20kB 17.7MB/s eta 0:00:01\r\u001b[K     |████▋                           | 30kB 14.3MB/s eta 0:00:01\r\u001b[K     |██████▏                         | 40kB 12.4MB/s eta 0:00:01\r\u001b[K     |███████▊                        | 51kB 8.9MB/s eta 0:00:01\r\u001b[K     |█████████▎                      | 61kB 8.2MB/s eta 0:00:01\r\u001b[K     |██████████▊                     | 71kB 9.2MB/s eta 0:00:01\r\u001b[K     |████████████▎                   | 81kB 10.2MB/s eta 0:00:01\r\u001b[K     |█████████████▉                  | 92kB 10.7MB/s eta 0:00:01\r\u001b[K     |███████████████▍                | 102kB 10.5MB/s eta 0:00:01\r\u001b[K     |█████████████████               | 112kB 10.5MB/s eta 0:00:01\r\u001b[K     |██████████████████▌             | 122kB 10.5MB/s eta 0:00:01\r\u001b[K     |████████████████████            | 133kB 10.5MB/s eta 0:00:01\r\u001b[K     |█████████████████████▌          | 143kB 10.5MB/s eta 0:00:01\r\u001b[K     |███████████████████████         | 153kB 10.5MB/s eta 0:00:01\r\u001b[K     |████████████████████████▋       | 163kB 10.5MB/s eta 0:00:01\r\u001b[K     |██████████████████████████▏     | 174kB 10.5MB/s eta 0:00:01\r\u001b[K     |███████████████████████████▊    | 184kB 10.5MB/s eta 0:00:01\r\u001b[K     |█████████████████████████████▎  | 194kB 10.5MB/s eta 0:00:01\r\u001b[K     |██████████████████████████████▊ | 204kB 10.5MB/s eta 0:00:01\r\u001b[K     |████████████████████████████████| 215kB 10.5MB/s \n",
            "\u001b[?25hRequirement already satisfied: numpy in /usr/local/lib/python3.6/dist-packages (from spectral) (1.19.5)\n",
            "Installing collected packages: spectral\n",
            "Successfully installed spectral-0.22.1\n"
          ],
          "name": "stdout"
        },
        {
          "output_type": "display_data",
          "data": {
            "image/png": "[encoded data removed]",
            "text/plain": [
              "<Figure size 504x504 with 1 Axes>"
            ]
          },
          "metadata": {
            "tags": [],
            "needs_background": "light"
          }
        }
      ]
    }
  ]
}